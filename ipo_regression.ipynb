{
  "nbformat": 4,
  "nbformat_minor": 0,
  "metadata": {
    "colab": {
      "name": "ipo_regression.ipynb",
      "provenance": [],
      "authorship_tag": "ABX9TyMfFKgqRSuMWOXAoERKG7Hr",
      "include_colab_link": true
    },
    "kernelspec": {
      "name": "python3",
      "display_name": "Python 3"
    },
    "language_info": {
      "name": "python"
    }
  },
  "cells": [
    {
      "cell_type": "markdown",
      "metadata": {
        "id": "view-in-github",
        "colab_type": "text"
      },
      "source": [
        "<a href=\"https://colab.research.google.com/github/hallik95/IPO/blob/main/ipo_regression.ipynb\" target=\"_parent\"><img src=\"https://colab.research.google.com/assets/colab-badge.svg\" alt=\"Open In Colab\"/></a>"
      ]
    },
    {
      "cell_type": "code",
      "execution_count": 111,
      "metadata": {
        "id": "2vVfG3IsFzf6"
      },
      "outputs": [],
      "source": [
        "import pandas as pd\n",
        "import numpy as np\n",
        "import seaborn as sns\n",
        "import matplotlib.pyplot as plt\n",
        "from sklearn.linear_model import LinearRegression\n",
        "from sklearn import linear_model,model_selection, feature_selection,preprocessing\n",
        "import statsmodels.api as sm\n",
        "from statsmodels.tools.eval_measures import mse\n",
        "from statsmodels.tools.tools import add_constant\n",
        "from sklearn.metrics import mean_squared_error\n",
        "import warnings\n",
        "\n",
        "sns.set_theme(style=\"whitegrid\", palette=\"Paired\")"
      ]
    },
    {
      "cell_type": "code",
      "source": [
        "from google.colab import drive\n",
        "drive.mount('/content/drive')"
      ],
      "metadata": {
        "colab": {
          "base_uri": "https://localhost:8080/"
        },
        "id": "h04G1etRF52u",
        "outputId": "1e5125eb-4f30-4931-96fb-cae88bec7ee5"
      },
      "execution_count": 2,
      "outputs": [
        {
          "output_type": "stream",
          "name": "stdout",
          "text": [
            "Mounted at /content/drive\n"
          ]
        }
      ]
    },
    {
      "cell_type": "code",
      "source": [
        "df = pd.read_csv('/content/drive/MyDrive/data/ipo_clean.csv')"
      ],
      "metadata": {
        "id": "tT0ll24LGE7I"
      },
      "execution_count": 112,
      "outputs": []
    },
    {
      "cell_type": "code",
      "source": [
        "df['age'].replace('#VALUE!', np.nan, inplace=True)"
      ],
      "metadata": {
        "id": "Hz6Fkfq-KB78"
      },
      "execution_count": 113,
      "outputs": []
    },
    {
      "cell_type": "markdown",
      "source": [
        ""
      ],
      "metadata": {
        "id": "bUfpcBwmx2Sz"
      }
    },
    {
      "cell_type": "code",
      "source": [
        "df.head()"
      ],
      "metadata": {
        "colab": {
          "base_uri": "https://localhost:8080/",
          "height": 206
        },
        "id": "IeWgM1jaGj16",
        "outputId": "16937198-fa83-4530-ebe5-925f9c934924"
      },
      "execution_count": 114,
      "outputs": [
        {
          "output_type": "execute_result",
          "data": {
            "text/plain": [
              "       ric   ipo_date                   name      sector  ipo_price  \\\n",
              "0   CUE.OQ   1/2/2018      Cue Biopharma Inc  Healthcare          8   \n",
              "1    ADT.N  1/19/2018                ADT Inc  Technology         14   \n",
              "2  EYEN.OQ  1/25/2018           Eyenovia Inc  Healthcare         10   \n",
              "3  SLDB.OQ  1/26/2018  Solid Biosciences Inc  Healthcare         16   \n",
              "4   OSS.OQ   2/1/2018   One Stop Systems Inc  Technology          5   \n",
              "\n",
              "       1_day     1_week         r_d    total_debt     total_rev     total_ass  \\\n",
              "0  11.630000  14.990000   5490390.0  0.000000e+00  0.000000e+00  1.627862e+07   \n",
              "1  11.445225  10.992589         NaN  1.014366e+10  2.949766e+09  1.717648e+10   \n",
              "2  10.000000   9.000000   2953360.0  0.000000e+00  0.000000e+00  3.432820e+06   \n",
              "3  22.620000  29.000000  20116000.0  0.000000e+00  0.000000e+00  4.063600e+07   \n",
              "4   4.880000   5.060000   1599590.0  4.311760e+06  1.887932e+07  1.428417e+07   \n",
              "\n",
              "      marketcap  age  covid  \n",
              "0  2.494424e+08  3.0      0  \n",
              "1  8.912498e+09  2.7      0  \n",
              "2  9.052398e+07  3.5      0  \n",
              "3  9.903796e+08  4.9      0  \n",
              "4  6.246038e+07  0.1      0  "
            ],
            "text/html": [
              "\n",
              "  <div id=\"df-159eb349-871f-4199-bf69-568521e46380\">\n",
              "    <div class=\"colab-df-container\">\n",
              "      <div>\n",
              "<style scoped>\n",
              "    .dataframe tbody tr th:only-of-type {\n",
              "        vertical-align: middle;\n",
              "    }\n",
              "\n",
              "    .dataframe tbody tr th {\n",
              "        vertical-align: top;\n",
              "    }\n",
              "\n",
              "    .dataframe thead th {\n",
              "        text-align: right;\n",
              "    }\n",
              "</style>\n",
              "<table border=\"1\" class=\"dataframe\">\n",
              "  <thead>\n",
              "    <tr style=\"text-align: right;\">\n",
              "      <th></th>\n",
              "      <th>ric</th>\n",
              "      <th>ipo_date</th>\n",
              "      <th>name</th>\n",
              "      <th>sector</th>\n",
              "      <th>ipo_price</th>\n",
              "      <th>1_day</th>\n",
              "      <th>1_week</th>\n",
              "      <th>r_d</th>\n",
              "      <th>total_debt</th>\n",
              "      <th>total_rev</th>\n",
              "      <th>total_ass</th>\n",
              "      <th>marketcap</th>\n",
              "      <th>age</th>\n",
              "      <th>covid</th>\n",
              "    </tr>\n",
              "  </thead>\n",
              "  <tbody>\n",
              "    <tr>\n",
              "      <th>0</th>\n",
              "      <td>CUE.OQ</td>\n",
              "      <td>1/2/2018</td>\n",
              "      <td>Cue Biopharma Inc</td>\n",
              "      <td>Healthcare</td>\n",
              "      <td>8</td>\n",
              "      <td>11.630000</td>\n",
              "      <td>14.990000</td>\n",
              "      <td>5490390.0</td>\n",
              "      <td>0.000000e+00</td>\n",
              "      <td>0.000000e+00</td>\n",
              "      <td>1.627862e+07</td>\n",
              "      <td>2.494424e+08</td>\n",
              "      <td>3.0</td>\n",
              "      <td>0</td>\n",
              "    </tr>\n",
              "    <tr>\n",
              "      <th>1</th>\n",
              "      <td>ADT.N</td>\n",
              "      <td>1/19/2018</td>\n",
              "      <td>ADT Inc</td>\n",
              "      <td>Technology</td>\n",
              "      <td>14</td>\n",
              "      <td>11.445225</td>\n",
              "      <td>10.992589</td>\n",
              "      <td>NaN</td>\n",
              "      <td>1.014366e+10</td>\n",
              "      <td>2.949766e+09</td>\n",
              "      <td>1.717648e+10</td>\n",
              "      <td>8.912498e+09</td>\n",
              "      <td>2.7</td>\n",
              "      <td>0</td>\n",
              "    </tr>\n",
              "    <tr>\n",
              "      <th>2</th>\n",
              "      <td>EYEN.OQ</td>\n",
              "      <td>1/25/2018</td>\n",
              "      <td>Eyenovia Inc</td>\n",
              "      <td>Healthcare</td>\n",
              "      <td>10</td>\n",
              "      <td>10.000000</td>\n",
              "      <td>9.000000</td>\n",
              "      <td>2953360.0</td>\n",
              "      <td>0.000000e+00</td>\n",
              "      <td>0.000000e+00</td>\n",
              "      <td>3.432820e+06</td>\n",
              "      <td>9.052398e+07</td>\n",
              "      <td>3.5</td>\n",
              "      <td>0</td>\n",
              "    </tr>\n",
              "    <tr>\n",
              "      <th>3</th>\n",
              "      <td>SLDB.OQ</td>\n",
              "      <td>1/26/2018</td>\n",
              "      <td>Solid Biosciences Inc</td>\n",
              "      <td>Healthcare</td>\n",
              "      <td>16</td>\n",
              "      <td>22.620000</td>\n",
              "      <td>29.000000</td>\n",
              "      <td>20116000.0</td>\n",
              "      <td>0.000000e+00</td>\n",
              "      <td>0.000000e+00</td>\n",
              "      <td>4.063600e+07</td>\n",
              "      <td>9.903796e+08</td>\n",
              "      <td>4.9</td>\n",
              "      <td>0</td>\n",
              "    </tr>\n",
              "    <tr>\n",
              "      <th>4</th>\n",
              "      <td>OSS.OQ</td>\n",
              "      <td>2/1/2018</td>\n",
              "      <td>One Stop Systems Inc</td>\n",
              "      <td>Technology</td>\n",
              "      <td>5</td>\n",
              "      <td>4.880000</td>\n",
              "      <td>5.060000</td>\n",
              "      <td>1599590.0</td>\n",
              "      <td>4.311760e+06</td>\n",
              "      <td>1.887932e+07</td>\n",
              "      <td>1.428417e+07</td>\n",
              "      <td>6.246038e+07</td>\n",
              "      <td>0.1</td>\n",
              "      <td>0</td>\n",
              "    </tr>\n",
              "  </tbody>\n",
              "</table>\n",
              "</div>\n",
              "      <button class=\"colab-df-convert\" onclick=\"convertToInteractive('df-159eb349-871f-4199-bf69-568521e46380')\"\n",
              "              title=\"Convert this dataframe to an interactive table.\"\n",
              "              style=\"display:none;\">\n",
              "        \n",
              "  <svg xmlns=\"http://www.w3.org/2000/svg\" height=\"24px\"viewBox=\"0 0 24 24\"\n",
              "       width=\"24px\">\n",
              "    <path d=\"M0 0h24v24H0V0z\" fill=\"none\"/>\n",
              "    <path d=\"M18.56 5.44l.94 2.06.94-2.06 2.06-.94-2.06-.94-.94-2.06-.94 2.06-2.06.94zm-11 1L8.5 8.5l.94-2.06 2.06-.94-2.06-.94L8.5 2.5l-.94 2.06-2.06.94zm10 10l.94 2.06.94-2.06 2.06-.94-2.06-.94-.94-2.06-.94 2.06-2.06.94z\"/><path d=\"M17.41 7.96l-1.37-1.37c-.4-.4-.92-.59-1.43-.59-.52 0-1.04.2-1.43.59L10.3 9.45l-7.72 7.72c-.78.78-.78 2.05 0 2.83L4 21.41c.39.39.9.59 1.41.59.51 0 1.02-.2 1.41-.59l7.78-7.78 2.81-2.81c.8-.78.8-2.07 0-2.86zM5.41 20L4 18.59l7.72-7.72 1.47 1.35L5.41 20z\"/>\n",
              "  </svg>\n",
              "      </button>\n",
              "      \n",
              "  <style>\n",
              "    .colab-df-container {\n",
              "      display:flex;\n",
              "      flex-wrap:wrap;\n",
              "      gap: 12px;\n",
              "    }\n",
              "\n",
              "    .colab-df-convert {\n",
              "      background-color: #E8F0FE;\n",
              "      border: none;\n",
              "      border-radius: 50%;\n",
              "      cursor: pointer;\n",
              "      display: none;\n",
              "      fill: #1967D2;\n",
              "      height: 32px;\n",
              "      padding: 0 0 0 0;\n",
              "      width: 32px;\n",
              "    }\n",
              "\n",
              "    .colab-df-convert:hover {\n",
              "      background-color: #E2EBFA;\n",
              "      box-shadow: 0px 1px 2px rgba(60, 64, 67, 0.3), 0px 1px 3px 1px rgba(60, 64, 67, 0.15);\n",
              "      fill: #174EA6;\n",
              "    }\n",
              "\n",
              "    [theme=dark] .colab-df-convert {\n",
              "      background-color: #3B4455;\n",
              "      fill: #D2E3FC;\n",
              "    }\n",
              "\n",
              "    [theme=dark] .colab-df-convert:hover {\n",
              "      background-color: #434B5C;\n",
              "      box-shadow: 0px 1px 3px 1px rgba(0, 0, 0, 0.15);\n",
              "      filter: drop-shadow(0px 1px 2px rgba(0, 0, 0, 0.3));\n",
              "      fill: #FFFFFF;\n",
              "    }\n",
              "  </style>\n",
              "\n",
              "      <script>\n",
              "        const buttonEl =\n",
              "          document.querySelector('#df-159eb349-871f-4199-bf69-568521e46380 button.colab-df-convert');\n",
              "        buttonEl.style.display =\n",
              "          google.colab.kernel.accessAllowed ? 'block' : 'none';\n",
              "\n",
              "        async function convertToInteractive(key) {\n",
              "          const element = document.querySelector('#df-159eb349-871f-4199-bf69-568521e46380');\n",
              "          const dataTable =\n",
              "            await google.colab.kernel.invokeFunction('convertToInteractive',\n",
              "                                                     [key], {});\n",
              "          if (!dataTable) return;\n",
              "\n",
              "          const docLinkHtml = 'Like what you see? Visit the ' +\n",
              "            '<a target=\"_blank\" href=https://colab.research.google.com/notebooks/data_table.ipynb>data table notebook</a>'\n",
              "            + ' to learn more about interactive tables.';\n",
              "          element.innerHTML = '';\n",
              "          dataTable['output_type'] = 'display_data';\n",
              "          await google.colab.output.renderOutput(dataTable, element);\n",
              "          const docLink = document.createElement('div');\n",
              "          docLink.innerHTML = docLinkHtml;\n",
              "          element.appendChild(docLink);\n",
              "        }\n",
              "      </script>\n",
              "    </div>\n",
              "  </div>\n",
              "  "
            ]
          },
          "metadata": {},
          "execution_count": 114
        }
      ]
    },
    {
      "cell_type": "code",
      "source": [
        "df['sector'].replace('Technology', 0, inplace=True)\n",
        "df['sector'].replace('Healthcare', 1, inplace=True)"
      ],
      "metadata": {
        "id": "nzyEAy1xGkl9"
      },
      "execution_count": 115,
      "outputs": []
    },
    {
      "cell_type": "code",
      "source": [
        "df['R&D_ratio'] = df['r_d'] / df['marketcap']"
      ],
      "metadata": {
        "id": "iELb9VTvQgWf"
      },
      "execution_count": 116,
      "outputs": []
    },
    {
      "cell_type": "code",
      "source": [
        "df.isna().sum()"
      ],
      "metadata": {
        "colab": {
          "base_uri": "https://localhost:8080/"
        },
        "id": "HU59zm8_HOgH",
        "outputId": "6b3acf60-a1c3-462f-cd74-f77611038853"
      },
      "execution_count": 117,
      "outputs": [
        {
          "output_type": "execute_result",
          "data": {
            "text/plain": [
              "ric            0\n",
              "ipo_date       0\n",
              "name           0\n",
              "sector         0\n",
              "ipo_price      0\n",
              "1_day          0\n",
              "1_week         0\n",
              "r_d           44\n",
              "total_debt     3\n",
              "total_rev      3\n",
              "total_ass      3\n",
              "marketcap      2\n",
              "age            2\n",
              "covid          0\n",
              "R&D_ratio     46\n",
              "dtype: int64"
            ]
          },
          "metadata": {},
          "execution_count": 117
        }
      ]
    },
    {
      "cell_type": "code",
      "source": [
        "df['age'] = df['age'].astype(float)"
      ],
      "metadata": {
        "id": "L_b-VyNzLP82"
      },
      "execution_count": 118,
      "outputs": []
    },
    {
      "cell_type": "code",
      "source": [
        "df = df.fillna(df.mean())"
      ],
      "metadata": {
        "colab": {
          "base_uri": "https://localhost:8080/"
        },
        "id": "dwoq_0AtGndE",
        "outputId": "097613be-f707-41ee-fa38-52122ac56800"
      },
      "execution_count": 119,
      "outputs": [
        {
          "output_type": "stream",
          "name": "stderr",
          "text": [
            "/usr/local/lib/python3.7/dist-packages/ipykernel_launcher.py:1: FutureWarning: Dropping of nuisance columns in DataFrame reductions (with 'numeric_only=None') is deprecated; in a future version this will raise TypeError.  Select only valid columns before calling the reduction.\n",
            "  \"\"\"Entry point for launching an IPython kernel.\n"
          ]
        }
      ]
    },
    {
      "cell_type": "code",
      "source": [
        "df['leverage'] = df['total_debt'] / df['total_ass']\n",
        "#df['R&D_ratio'] = df['r_d'] / df['marketcap']\n",
        "df['revenue_ratio'] = df['total_rev'] / df['total_ass']\n",
        "df['martketcap_log'] = np.log(df['marketcap'])\n",
        "df['day_returns'] = (df['1_day'] - df['ipo_price']) / df['ipo_price']\n",
        "df['week_returns'] = (df['1_week'] - df['ipo_price']) / df['ipo_price']\n",
        "df.head()"
      ],
      "metadata": {
        "colab": {
          "base_uri": "https://localhost:8080/",
          "height": 392
        },
        "id": "2CCeldTIHJEu",
        "outputId": "5bbcf92e-6393-45b7-b06a-5d080b2437b4"
      },
      "execution_count": 120,
      "outputs": [
        {
          "output_type": "execute_result",
          "data": {
            "text/plain": [
              "       ric   ipo_date                   name  sector  ipo_price      1_day  \\\n",
              "0   CUE.OQ   1/2/2018      Cue Biopharma Inc       1          8  11.630000   \n",
              "1    ADT.N  1/19/2018                ADT Inc       0         14  11.445225   \n",
              "2  EYEN.OQ  1/25/2018           Eyenovia Inc       1         10  10.000000   \n",
              "3  SLDB.OQ  1/26/2018  Solid Biosciences Inc       1         16  22.620000   \n",
              "4   OSS.OQ   2/1/2018   One Stop Systems Inc       0          5   4.880000   \n",
              "\n",
              "      1_week         r_d    total_debt     total_rev     total_ass  \\\n",
              "0  14.990000   5490390.0  0.000000e+00  0.000000e+00  1.627862e+07   \n",
              "1  10.992589  43648012.7  1.014366e+10  2.949766e+09  1.717648e+10   \n",
              "2   9.000000   2953360.0  0.000000e+00  0.000000e+00  3.432820e+06   \n",
              "3  29.000000  20116000.0  0.000000e+00  0.000000e+00  4.063600e+07   \n",
              "4   5.060000   1599590.0  4.311760e+06  1.887932e+07  1.428417e+07   \n",
              "\n",
              "      marketcap  age  covid  R&D_ratio  leverage  revenue_ratio  \\\n",
              "0  2.494424e+08  3.0      0   0.022011  0.000000       0.000000   \n",
              "1  8.912498e+09  2.7      0   0.027742  0.590555       0.171733   \n",
              "2  9.052398e+07  3.5      0   0.032625  0.000000       0.000000   \n",
              "3  9.903796e+08  4.9      0   0.020311  0.000000       0.000000   \n",
              "4  6.246038e+07  0.1      0   0.025610  0.301856       1.321695   \n",
              "\n",
              "   martketcap_log  day_returns  week_returns  \n",
              "0       19.334739     0.453750      0.873750  \n",
              "1       22.910720    -0.182484     -0.214815  \n",
              "2       18.321125     0.000000     -0.100000  \n",
              "3       20.713599     0.413750      0.812500  \n",
              "4       17.950043    -0.024000      0.012000  "
            ],
            "text/html": [
              "\n",
              "  <div id=\"df-cc1385bf-e8ed-4b4e-a34f-9bcfc91e854e\">\n",
              "    <div class=\"colab-df-container\">\n",
              "      <div>\n",
              "<style scoped>\n",
              "    .dataframe tbody tr th:only-of-type {\n",
              "        vertical-align: middle;\n",
              "    }\n",
              "\n",
              "    .dataframe tbody tr th {\n",
              "        vertical-align: top;\n",
              "    }\n",
              "\n",
              "    .dataframe thead th {\n",
              "        text-align: right;\n",
              "    }\n",
              "</style>\n",
              "<table border=\"1\" class=\"dataframe\">\n",
              "  <thead>\n",
              "    <tr style=\"text-align: right;\">\n",
              "      <th></th>\n",
              "      <th>ric</th>\n",
              "      <th>ipo_date</th>\n",
              "      <th>name</th>\n",
              "      <th>sector</th>\n",
              "      <th>ipo_price</th>\n",
              "      <th>1_day</th>\n",
              "      <th>1_week</th>\n",
              "      <th>r_d</th>\n",
              "      <th>total_debt</th>\n",
              "      <th>total_rev</th>\n",
              "      <th>total_ass</th>\n",
              "      <th>marketcap</th>\n",
              "      <th>age</th>\n",
              "      <th>covid</th>\n",
              "      <th>R&amp;D_ratio</th>\n",
              "      <th>leverage</th>\n",
              "      <th>revenue_ratio</th>\n",
              "      <th>martketcap_log</th>\n",
              "      <th>day_returns</th>\n",
              "      <th>week_returns</th>\n",
              "    </tr>\n",
              "  </thead>\n",
              "  <tbody>\n",
              "    <tr>\n",
              "      <th>0</th>\n",
              "      <td>CUE.OQ</td>\n",
              "      <td>1/2/2018</td>\n",
              "      <td>Cue Biopharma Inc</td>\n",
              "      <td>1</td>\n",
              "      <td>8</td>\n",
              "      <td>11.630000</td>\n",
              "      <td>14.990000</td>\n",
              "      <td>5490390.0</td>\n",
              "      <td>0.000000e+00</td>\n",
              "      <td>0.000000e+00</td>\n",
              "      <td>1.627862e+07</td>\n",
              "      <td>2.494424e+08</td>\n",
              "      <td>3.0</td>\n",
              "      <td>0</td>\n",
              "      <td>0.022011</td>\n",
              "      <td>0.000000</td>\n",
              "      <td>0.000000</td>\n",
              "      <td>19.334739</td>\n",
              "      <td>0.453750</td>\n",
              "      <td>0.873750</td>\n",
              "    </tr>\n",
              "    <tr>\n",
              "      <th>1</th>\n",
              "      <td>ADT.N</td>\n",
              "      <td>1/19/2018</td>\n",
              "      <td>ADT Inc</td>\n",
              "      <td>0</td>\n",
              "      <td>14</td>\n",
              "      <td>11.445225</td>\n",
              "      <td>10.992589</td>\n",
              "      <td>43648012.7</td>\n",
              "      <td>1.014366e+10</td>\n",
              "      <td>2.949766e+09</td>\n",
              "      <td>1.717648e+10</td>\n",
              "      <td>8.912498e+09</td>\n",
              "      <td>2.7</td>\n",
              "      <td>0</td>\n",
              "      <td>0.027742</td>\n",
              "      <td>0.590555</td>\n",
              "      <td>0.171733</td>\n",
              "      <td>22.910720</td>\n",
              "      <td>-0.182484</td>\n",
              "      <td>-0.214815</td>\n",
              "    </tr>\n",
              "    <tr>\n",
              "      <th>2</th>\n",
              "      <td>EYEN.OQ</td>\n",
              "      <td>1/25/2018</td>\n",
              "      <td>Eyenovia Inc</td>\n",
              "      <td>1</td>\n",
              "      <td>10</td>\n",
              "      <td>10.000000</td>\n",
              "      <td>9.000000</td>\n",
              "      <td>2953360.0</td>\n",
              "      <td>0.000000e+00</td>\n",
              "      <td>0.000000e+00</td>\n",
              "      <td>3.432820e+06</td>\n",
              "      <td>9.052398e+07</td>\n",
              "      <td>3.5</td>\n",
              "      <td>0</td>\n",
              "      <td>0.032625</td>\n",
              "      <td>0.000000</td>\n",
              "      <td>0.000000</td>\n",
              "      <td>18.321125</td>\n",
              "      <td>0.000000</td>\n",
              "      <td>-0.100000</td>\n",
              "    </tr>\n",
              "    <tr>\n",
              "      <th>3</th>\n",
              "      <td>SLDB.OQ</td>\n",
              "      <td>1/26/2018</td>\n",
              "      <td>Solid Biosciences Inc</td>\n",
              "      <td>1</td>\n",
              "      <td>16</td>\n",
              "      <td>22.620000</td>\n",
              "      <td>29.000000</td>\n",
              "      <td>20116000.0</td>\n",
              "      <td>0.000000e+00</td>\n",
              "      <td>0.000000e+00</td>\n",
              "      <td>4.063600e+07</td>\n",
              "      <td>9.903796e+08</td>\n",
              "      <td>4.9</td>\n",
              "      <td>0</td>\n",
              "      <td>0.020311</td>\n",
              "      <td>0.000000</td>\n",
              "      <td>0.000000</td>\n",
              "      <td>20.713599</td>\n",
              "      <td>0.413750</td>\n",
              "      <td>0.812500</td>\n",
              "    </tr>\n",
              "    <tr>\n",
              "      <th>4</th>\n",
              "      <td>OSS.OQ</td>\n",
              "      <td>2/1/2018</td>\n",
              "      <td>One Stop Systems Inc</td>\n",
              "      <td>0</td>\n",
              "      <td>5</td>\n",
              "      <td>4.880000</td>\n",
              "      <td>5.060000</td>\n",
              "      <td>1599590.0</td>\n",
              "      <td>4.311760e+06</td>\n",
              "      <td>1.887932e+07</td>\n",
              "      <td>1.428417e+07</td>\n",
              "      <td>6.246038e+07</td>\n",
              "      <td>0.1</td>\n",
              "      <td>0</td>\n",
              "      <td>0.025610</td>\n",
              "      <td>0.301856</td>\n",
              "      <td>1.321695</td>\n",
              "      <td>17.950043</td>\n",
              "      <td>-0.024000</td>\n",
              "      <td>0.012000</td>\n",
              "    </tr>\n",
              "  </tbody>\n",
              "</table>\n",
              "</div>\n",
              "      <button class=\"colab-df-convert\" onclick=\"convertToInteractive('df-cc1385bf-e8ed-4b4e-a34f-9bcfc91e854e')\"\n",
              "              title=\"Convert this dataframe to an interactive table.\"\n",
              "              style=\"display:none;\">\n",
              "        \n",
              "  <svg xmlns=\"http://www.w3.org/2000/svg\" height=\"24px\"viewBox=\"0 0 24 24\"\n",
              "       width=\"24px\">\n",
              "    <path d=\"M0 0h24v24H0V0z\" fill=\"none\"/>\n",
              "    <path d=\"M18.56 5.44l.94 2.06.94-2.06 2.06-.94-2.06-.94-.94-2.06-.94 2.06-2.06.94zm-11 1L8.5 8.5l.94-2.06 2.06-.94-2.06-.94L8.5 2.5l-.94 2.06-2.06.94zm10 10l.94 2.06.94-2.06 2.06-.94-2.06-.94-.94-2.06-.94 2.06-2.06.94z\"/><path d=\"M17.41 7.96l-1.37-1.37c-.4-.4-.92-.59-1.43-.59-.52 0-1.04.2-1.43.59L10.3 9.45l-7.72 7.72c-.78.78-.78 2.05 0 2.83L4 21.41c.39.39.9.59 1.41.59.51 0 1.02-.2 1.41-.59l7.78-7.78 2.81-2.81c.8-.78.8-2.07 0-2.86zM5.41 20L4 18.59l7.72-7.72 1.47 1.35L5.41 20z\"/>\n",
              "  </svg>\n",
              "      </button>\n",
              "      \n",
              "  <style>\n",
              "    .colab-df-container {\n",
              "      display:flex;\n",
              "      flex-wrap:wrap;\n",
              "      gap: 12px;\n",
              "    }\n",
              "\n",
              "    .colab-df-convert {\n",
              "      background-color: #E8F0FE;\n",
              "      border: none;\n",
              "      border-radius: 50%;\n",
              "      cursor: pointer;\n",
              "      display: none;\n",
              "      fill: #1967D2;\n",
              "      height: 32px;\n",
              "      padding: 0 0 0 0;\n",
              "      width: 32px;\n",
              "    }\n",
              "\n",
              "    .colab-df-convert:hover {\n",
              "      background-color: #E2EBFA;\n",
              "      box-shadow: 0px 1px 2px rgba(60, 64, 67, 0.3), 0px 1px 3px 1px rgba(60, 64, 67, 0.15);\n",
              "      fill: #174EA6;\n",
              "    }\n",
              "\n",
              "    [theme=dark] .colab-df-convert {\n",
              "      background-color: #3B4455;\n",
              "      fill: #D2E3FC;\n",
              "    }\n",
              "\n",
              "    [theme=dark] .colab-df-convert:hover {\n",
              "      background-color: #434B5C;\n",
              "      box-shadow: 0px 1px 3px 1px rgba(0, 0, 0, 0.15);\n",
              "      filter: drop-shadow(0px 1px 2px rgba(0, 0, 0, 0.3));\n",
              "      fill: #FFFFFF;\n",
              "    }\n",
              "  </style>\n",
              "\n",
              "      <script>\n",
              "        const buttonEl =\n",
              "          document.querySelector('#df-cc1385bf-e8ed-4b4e-a34f-9bcfc91e854e button.colab-df-convert');\n",
              "        buttonEl.style.display =\n",
              "          google.colab.kernel.accessAllowed ? 'block' : 'none';\n",
              "\n",
              "        async function convertToInteractive(key) {\n",
              "          const element = document.querySelector('#df-cc1385bf-e8ed-4b4e-a34f-9bcfc91e854e');\n",
              "          const dataTable =\n",
              "            await google.colab.kernel.invokeFunction('convertToInteractive',\n",
              "                                                     [key], {});\n",
              "          if (!dataTable) return;\n",
              "\n",
              "          const docLinkHtml = 'Like what you see? Visit the ' +\n",
              "            '<a target=\"_blank\" href=https://colab.research.google.com/notebooks/data_table.ipynb>data table notebook</a>'\n",
              "            + ' to learn more about interactive tables.';\n",
              "          element.innerHTML = '';\n",
              "          dataTable['output_type'] = 'display_data';\n",
              "          await google.colab.output.renderOutput(dataTable, element);\n",
              "          const docLink = document.createElement('div');\n",
              "          docLink.innerHTML = docLinkHtml;\n",
              "          element.appendChild(docLink);\n",
              "        }\n",
              "      </script>\n",
              "    </div>\n",
              "  </div>\n",
              "  "
            ]
          },
          "metadata": {},
          "execution_count": 120
        }
      ]
    },
    {
      "cell_type": "code",
      "source": [
        "df = df.fillna(df.mean())"
      ],
      "metadata": {
        "colab": {
          "base_uri": "https://localhost:8080/"
        },
        "id": "UK0lLMmUHo8c",
        "outputId": "626f0f88-dbde-46a5-b13c-0932d21a159d"
      },
      "execution_count": 121,
      "outputs": [
        {
          "output_type": "stream",
          "name": "stderr",
          "text": [
            "/usr/local/lib/python3.7/dist-packages/ipykernel_launcher.py:1: FutureWarning: Dropping of nuisance columns in DataFrame reductions (with 'numeric_only=None') is deprecated; in a future version this will raise TypeError.  Select only valid columns before calling the reduction.\n",
            "  \"\"\"Entry point for launching an IPython kernel.\n"
          ]
        }
      ]
    },
    {
      "cell_type": "code",
      "source": [
        "covid = df[df['covid']==1]\n",
        "pre_covid = df[df['covid']==0]"
      ],
      "metadata": {
        "id": "vtw-YgWEJdoY"
      },
      "execution_count": 122,
      "outputs": []
    },
    {
      "cell_type": "code",
      "source": [
        "df = df[:340]"
      ],
      "metadata": {
        "id": "i727Z55X6TU9"
      },
      "execution_count": 123,
      "outputs": []
    },
    {
      "cell_type": "code",
      "source": [
        "sns.barplot(x='covid', y='marketcap', data=df)"
      ],
      "metadata": {
        "colab": {
          "base_uri": "https://localhost:8080/",
          "height": 313
        },
        "id": "LKbpBUdF5LHU",
        "outputId": "d01bd4f8-2b5f-4808-d85b-1409c57bfd22"
      },
      "execution_count": 124,
      "outputs": [
        {
          "output_type": "execute_result",
          "data": {
            "text/plain": [
              "<matplotlib.axes._subplots.AxesSubplot at 0x7f4092465bd0>"
            ]
          },
          "metadata": {},
          "execution_count": 124
        },
        {
          "output_type": "display_data",
          "data": {
            "text/plain": [
              "<Figure size 432x288 with 1 Axes>"
            ],
            "image/png": "[encoded data removed]"
          },
          "metadata": {}
        }
      ]
    },
    {
      "cell_type": "code",
      "source": [
        "sns.barplot(x='covid', y='total_debt', data=df)"
      ],
      "metadata": {
        "colab": {
          "base_uri": "https://localhost:8080/",
          "height": 313
        },
        "id": "dz_UYu9aREU6",
        "outputId": "ad47b385-170e-4630-ecd0-757c3dcf5256"
      },
      "execution_count": 125,
      "outputs": [
        {
          "output_type": "execute_result",
          "data": {
            "text/plain": [
              "<matplotlib.axes._subplots.AxesSubplot at 0x7f40923f8a10>"
            ]
          },
          "metadata": {},
          "execution_count": 125
        },
        {
          "output_type": "display_data",
          "data": {
            "text/plain": [
              "<Figure size 432x288 with 1 Axes>"
            ],
            "image/png": "[encoded data removed]"
          },
          "metadata": {}
        }
      ]
    },
    {
      "cell_type": "code",
      "source": [
        "sns.barplot(x='covid', y='total_ass', data=df)"
      ],
      "metadata": {
        "colab": {
          "base_uri": "https://localhost:8080/",
          "height": 313
        },
        "id": "HGV217V7RPYE",
        "outputId": "fffd6135-338c-4e6b-ed03-aa2f699898b8"
      },
      "execution_count": 126,
      "outputs": [
        {
          "output_type": "execute_result",
          "data": {
            "text/plain": [
              "<matplotlib.axes._subplots.AxesSubplot at 0x7f40923a5650>"
            ]
          },
          "metadata": {},
          "execution_count": 126
        },
        {
          "output_type": "display_data",
          "data": {
            "text/plain": [
              "<Figure size 432x288 with 1 Axes>"
            ],
            "image/png": "[encoded data removed]"
          },
          "metadata": {}
        }
      ]
    },
    {
      "cell_type": "code",
      "source": [
        "sns.barplot(x='covid', y='total_rev', data=df)"
      ],
      "metadata": {
        "colab": {
          "base_uri": "https://localhost:8080/",
          "height": 313
        },
        "id": "MuMzEVokRyzi",
        "outputId": "eb5b214c-06d0-4bb3-9d20-ba3c82c03b84"
      },
      "execution_count": 127,
      "outputs": [
        {
          "output_type": "execute_result",
          "data": {
            "text/plain": [
              "<matplotlib.axes._subplots.AxesSubplot at 0x7f409230d250>"
            ]
          },
          "metadata": {},
          "execution_count": 127
        },
        {
          "output_type": "display_data",
          "data": {
            "text/plain": [
              "<Figure size 432x288 with 1 Axes>"
            ],
            "image/png": "[encoded data removed]"
          },
          "metadata": {}
        }
      ]
    },
    {
      "cell_type": "code",
      "source": [
        "sns.barplot(x='covid', y='r_d', data=df)"
      ],
      "metadata": {
        "colab": {
          "base_uri": "https://localhost:8080/",
          "height": 313
        },
        "id": "o7hr8-JvYZUZ",
        "outputId": "744f0344-3065-47f6-b601-94c7a56f7174"
      },
      "execution_count": 128,
      "outputs": [
        {
          "output_type": "execute_result",
          "data": {
            "text/plain": [
              "<matplotlib.axes._subplots.AxesSubplot at 0x7f40922f37d0>"
            ]
          },
          "metadata": {},
          "execution_count": 128
        },
        {
          "output_type": "display_data",
          "data": {
            "text/plain": [
              "<Figure size 432x288 with 1 Axes>"
            ],
            "image/png": "[encoded data removed]"
          },
          "metadata": {}
        }
      ]
    },
    {
      "cell_type": "code",
      "source": [
        "sns.barplot(x='covid', y='week_returns', data=df)"
      ],
      "metadata": {
        "colab": {
          "base_uri": "https://localhost:8080/",
          "height": 302
        },
        "id": "SnJ_oVB9R13O",
        "outputId": "ba24e5a2-a8a2-4ae4-c99a-8e8ac9a5ce16"
      },
      "execution_count": 129,
      "outputs": [
        {
          "output_type": "execute_result",
          "data": {
            "text/plain": [
              "<matplotlib.axes._subplots.AxesSubplot at 0x7f409225ce50>"
            ]
          },
          "metadata": {},
          "execution_count": 129
        },
        {
          "output_type": "display_data",
          "data": {
            "text/plain": [
              "<Figure size 432x288 with 1 Axes>"
            ],
            "image/png": "[encoded data removed]"
          },
          "metadata": {}
        }
      ]
    },
    {
      "cell_type": "code",
      "source": [
        "sns.barplot(x='covid', y='day_returns', data=df)"
      ],
      "metadata": {
        "colab": {
          "base_uri": "https://localhost:8080/",
          "height": 302
        },
        "id": "jTC4B4W4R53K",
        "outputId": "bffcb2ff-1c27-433a-f311-a753669a8aa4"
      },
      "execution_count": 130,
      "outputs": [
        {
          "output_type": "execute_result",
          "data": {
            "text/plain": [
              "<matplotlib.axes._subplots.AxesSubplot at 0x7f40921c0090>"
            ]
          },
          "metadata": {},
          "execution_count": 130
        },
        {
          "output_type": "display_data",
          "data": {
            "text/plain": [
              "<Figure size 432x288 with 1 Axes>"
            ],
            "image/png": "[encoded data removed]"
          },
          "metadata": {}
        }
      ]
    },
    {
      "cell_type": "code",
      "source": [
        "regr = LinearRegression()"
      ],
      "metadata": {
        "id": "dH_L-CsNHuWd"
      },
      "execution_count": 131,
      "outputs": []
    },
    {
      "cell_type": "code",
      "source": [
        "X = df[['sector',\n",
        "       'R&D_ratio', 'leverage', 'revenue_ratio', 'martketcap_log', 'age',\n",
        "       'covid']]\n",
        "y_1 = df['day_returns']\n",
        "y_7 = df['week_returns']"
      ],
      "metadata": {
        "id": "1g-HzxcWJZLI"
      },
      "execution_count": 132,
      "outputs": []
    },
    {
      "cell_type": "code",
      "source": [
        "cmap = sns.diverging_palette(240, 10, n=9, as_cmap=True)\n",
        "\n",
        "plt.figure(figsize=(16,10))\n",
        "sns.heatmap(X.corr(),  annot=True, cmap=cmap)\n"
      ],
      "metadata": {
        "colab": {
          "base_uri": "https://localhost:8080/",
          "height": 616
        },
        "id": "4ct7NLPRLg26",
        "outputId": "d279f232-ed46-4c50-a57a-fc8a3c56fe74"
      },
      "execution_count": 133,
      "outputs": [
        {
          "output_type": "execute_result",
          "data": {
            "text/plain": [
              "<matplotlib.axes._subplots.AxesSubplot at 0x7f409219fe90>"
            ]
          },
          "metadata": {},
          "execution_count": 133
        },
        {
          "output_type": "display_data",
          "data": {
            "text/plain": [
              "<Figure size 1152x720 with 2 Axes>"
            ],
            "image/png": "[encoded data removed]"
          },
          "metadata": {}
        }
      ]
    },
    {
      "cell_type": "code",
      "source": [
        "answer_day = sm.OLS(y_1, add_constant(X)).fit()\n",
        "answer_week = sm.OLS(y_7, add_constant(X)).fit()"
      ],
      "metadata": {
        "colab": {
          "base_uri": "https://localhost:8080/"
        },
        "id": "pN413zHQLqPf",
        "outputId": "df637b9e-31c5-4e91-ec37-2d3bf8cc713e"
      },
      "execution_count": 134,
      "outputs": [
        {
          "output_type": "stream",
          "name": "stderr",
          "text": [
            "/usr/local/lib/python3.7/dist-packages/statsmodels/tsa/tsatools.py:117: FutureWarning: In a future version of pandas all arguments of concat except for the argument 'objs' will be keyword-only\n",
            "  x = pd.concat(x[::order], 1)\n"
          ]
        }
      ]
    },
    {
      "cell_type": "code",
      "source": [
        "answer_day.summary()"
      ],
      "metadata": {
        "colab": {
          "base_uri": "https://localhost:8080/",
          "height": 580
        },
        "id": "qBSChruUNvy0",
        "outputId": "191f4684-efa6-4d9d-d116-1fcd64cb3595"
      },
      "execution_count": 135,
      "outputs": [
        {
          "output_type": "execute_result",
          "data": {
            "text/plain": [
              "<class 'statsmodels.iolib.summary.Summary'>\n",
              "\"\"\"\n",
              "                            OLS Regression Results                            \n",
              "==============================================================================\n",
              "Dep. Variable:            day_returns   R-squared:                       0.020\n",
              "Model:                            OLS   Adj. R-squared:                 -0.001\n",
              "Method:                 Least Squares   F-statistic:                    0.9649\n",
              "Date:                Tue, 28 Jun 2022   Prob (F-statistic):              0.457\n",
              "Time:                        17:48:34   Log-Likelihood:                -483.50\n",
              "No. Observations:                 340   AIC:                             983.0\n",
              "Df Residuals:                     332   BIC:                             1014.\n",
              "Df Model:                           7                                         \n",
              "Covariance Type:            nonrobust                                         \n",
              "==================================================================================\n",
              "                     coef    std err          t      P>|t|      [0.025      0.975]\n",
              "----------------------------------------------------------------------------------\n",
              "const              0.7332      0.969      0.757      0.450      -1.173       2.639\n",
              "sector            -0.2544      0.143     -1.784      0.075      -0.535       0.026\n",
              "R&D_ratio         -2.0464      1.757     -1.165      0.245      -5.502       1.410\n",
              "leverage           0.0032      0.022      0.145      0.885      -0.041       0.047\n",
              "revenue_ratio     -0.0132      0.033     -0.398      0.691      -0.079       0.052\n",
              "martketcap_log    -0.0054      0.044     -0.123      0.902      -0.091       0.080\n",
              "age               -0.0007      0.008     -0.086      0.931      -0.016       0.014\n",
              "covid             -0.0152      0.117     -0.130      0.897      -0.245       0.214\n",
              "==============================================================================\n",
              "Omnibus:                      705.007   Durbin-Watson:                   2.022\n",
              "Prob(Omnibus):                  0.000   Jarque-Bera (JB):           778270.671\n",
              "Skew:                          14.053   Prob(JB):                         0.00\n",
              "Kurtosis:                     235.695   Cond. No.                         721.\n",
              "==============================================================================\n",
              "\n",
              "Warnings:\n",
              "[1] Standard Errors assume that the covariance matrix of the errors is correctly specified.\n",
              "\"\"\""
            ],
            "text/html": [
              "<table class=\"simpletable\">\n",
              "<caption>OLS Regression Results</caption>\n",
              "<tr>\n",
              "  <th>Dep. Variable:</th>       <td>day_returns</td>   <th>  R-squared:         </th> <td>   0.020</td>\n",
              "</tr>\n",
              "<tr>\n",
              "  <th>Model:</th>                   <td>OLS</td>       <th>  Adj. R-squared:    </th> <td>  -0.001</td>\n",
              "</tr>\n",
              "<tr>\n",
              "  <th>Method:</th>             <td>Least Squares</td>  <th>  F-statistic:       </th> <td>  0.9649</td>\n",
              "</tr>\n",
              "<tr>\n",
              "  <th>Date:</th>             <td>Tue, 28 Jun 2022</td> <th>  Prob (F-statistic):</th>  <td> 0.457</td> \n",
              "</tr>\n",
              "<tr>\n",
              "  <th>Time:</th>                 <td>17:48:34</td>     <th>  Log-Likelihood:    </th> <td> -483.50</td>\n",
              "</tr>\n",
              "<tr>\n",
              "  <th>No. Observations:</th>      <td>   340</td>      <th>  AIC:               </th> <td>   983.0</td>\n",
              "</tr>\n",
              "<tr>\n",
              "  <th>Df Residuals:</th>          <td>   332</td>      <th>  BIC:               </th> <td>   1014.</td>\n",
              "</tr>\n",
              "<tr>\n",
              "  <th>Df Model:</th>              <td>     7</td>      <th>                     </th>     <td> </td>   \n",
              "</tr>\n",
              "<tr>\n",
              "  <th>Covariance Type:</th>      <td>nonrobust</td>    <th>                     </th>     <td> </td>   \n",
              "</tr>\n",
              "</table>\n",
              "<table class=\"simpletable\">\n",
              "<tr>\n",
              "         <td></td>           <th>coef</th>     <th>std err</th>      <th>t</th>      <th>P>|t|</th>  <th>[0.025</th>    <th>0.975]</th>  \n",
              "</tr>\n",
              "<tr>\n",
              "  <th>const</th>          <td>    0.7332</td> <td>    0.969</td> <td>    0.757</td> <td> 0.450</td> <td>   -1.173</td> <td>    2.639</td>\n",
              "</tr>\n",
              "<tr>\n",
              "  <th>sector</th>         <td>   -0.2544</td> <td>    0.143</td> <td>   -1.784</td> <td> 0.075</td> <td>   -0.535</td> <td>    0.026</td>\n",
              "</tr>\n",
              "<tr>\n",
              "  <th>R&D_ratio</th>      <td>   -2.0464</td> <td>    1.757</td> <td>   -1.165</td> <td> 0.245</td> <td>   -5.502</td> <td>    1.410</td>\n",
              "</tr>\n",
              "<tr>\n",
              "  <th>leverage</th>       <td>    0.0032</td> <td>    0.022</td> <td>    0.145</td> <td> 0.885</td> <td>   -0.041</td> <td>    0.047</td>\n",
              "</tr>\n",
              "<tr>\n",
              "  <th>revenue_ratio</th>  <td>   -0.0132</td> <td>    0.033</td> <td>   -0.398</td> <td> 0.691</td> <td>   -0.079</td> <td>    0.052</td>\n",
              "</tr>\n",
              "<tr>\n",
              "  <th>martketcap_log</th> <td>   -0.0054</td> <td>    0.044</td> <td>   -0.123</td> <td> 0.902</td> <td>   -0.091</td> <td>    0.080</td>\n",
              "</tr>\n",
              "<tr>\n",
              "  <th>age</th>            <td>   -0.0007</td> <td>    0.008</td> <td>   -0.086</td> <td> 0.931</td> <td>   -0.016</td> <td>    0.014</td>\n",
              "</tr>\n",
              "<tr>\n",
              "  <th>covid</th>          <td>   -0.0152</td> <td>    0.117</td> <td>   -0.130</td> <td> 0.897</td> <td>   -0.245</td> <td>    0.214</td>\n",
              "</tr>\n",
              "</table>\n",
              "<table class=\"simpletable\">\n",
              "<tr>\n",
              "  <th>Omnibus:</th>       <td>705.007</td> <th>  Durbin-Watson:     </th>  <td>   2.022</td> \n",
              "</tr>\n",
              "<tr>\n",
              "  <th>Prob(Omnibus):</th> <td> 0.000</td>  <th>  Jarque-Bera (JB):  </th> <td>778270.671</td>\n",
              "</tr>\n",
              "<tr>\n",
              "  <th>Skew:</th>          <td>14.053</td>  <th>  Prob(JB):          </th>  <td>    0.00</td> \n",
              "</tr>\n",
              "<tr>\n",
              "  <th>Kurtosis:</th>      <td>235.695</td> <th>  Cond. No.          </th>  <td>    721.</td> \n",
              "</tr>\n",
              "</table><br/><br/>Warnings:<br/>[1] Standard Errors assume that the covariance matrix of the errors is correctly specified."
            ]
          },
          "metadata": {},
          "execution_count": 135
        }
      ]
    },
    {
      "cell_type": "code",
      "source": [
        "answer_week.summary()"
      ],
      "metadata": {
        "colab": {
          "base_uri": "https://localhost:8080/",
          "height": 580
        },
        "id": "JvVJJ154Nv-A",
        "outputId": "84bfde32-ae31-49cb-d776-d13891fc0d6d"
      },
      "execution_count": 136,
      "outputs": [
        {
          "output_type": "execute_result",
          "data": {
            "text/plain": [
              "<class 'statsmodels.iolib.summary.Summary'>\n",
              "\"\"\"\n",
              "                            OLS Regression Results                            \n",
              "==============================================================================\n",
              "Dep. Variable:           week_returns   R-squared:                       0.026\n",
              "Model:                            OLS   Adj. R-squared:                  0.006\n",
              "Method:                 Least Squares   F-statistic:                     1.270\n",
              "Date:                Tue, 28 Jun 2022   Prob (F-statistic):              0.265\n",
              "Time:                        17:48:34   Log-Likelihood:                -486.25\n",
              "No. Observations:                 340   AIC:                             988.5\n",
              "Df Residuals:                     332   BIC:                             1019.\n",
              "Df Model:                           7                                         \n",
              "Covariance Type:            nonrobust                                         \n",
              "==================================================================================\n",
              "                     coef    std err          t      P>|t|      [0.025      0.975]\n",
              "----------------------------------------------------------------------------------\n",
              "const             -0.0975      0.977     -0.100      0.921      -2.019       1.824\n",
              "sector            -0.1805      0.144     -1.255      0.210      -0.463       0.102\n",
              "R&D_ratio         -2.4725      1.771     -1.396      0.164      -5.957       1.011\n",
              "leverage          -0.0003      0.023     -0.015      0.988      -0.045       0.044\n",
              "revenue_ratio     -0.0173      0.033     -0.516      0.606      -0.083       0.049\n",
              "martketcap_log     0.0352      0.044      0.801      0.424      -0.051       0.122\n",
              "age               -0.0005      0.008     -0.062      0.950      -0.016       0.015\n",
              "covid             -0.0490      0.118     -0.417      0.677      -0.280       0.182\n",
              "==============================================================================\n",
              "Omnibus:                      694.072   Durbin-Watson:                   1.998\n",
              "Prob(Omnibus):                  0.000   Jarque-Bera (JB):           707270.304\n",
              "Skew:                          13.599   Prob(JB):                         0.00\n",
              "Kurtosis:                     224.777   Cond. No.                         721.\n",
              "==============================================================================\n",
              "\n",
              "Warnings:\n",
              "[1] Standard Errors assume that the covariance matrix of the errors is correctly specified.\n",
              "\"\"\""
            ],
            "text/html": [
              "<table class=\"simpletable\">\n",
              "<caption>OLS Regression Results</caption>\n",
              "<tr>\n",
              "  <th>Dep. Variable:</th>      <td>week_returns</td>   <th>  R-squared:         </th> <td>   0.026</td>\n",
              "</tr>\n",
              "<tr>\n",
              "  <th>Model:</th>                   <td>OLS</td>       <th>  Adj. R-squared:    </th> <td>   0.006</td>\n",
              "</tr>\n",
              "<tr>\n",
              "  <th>Method:</th>             <td>Least Squares</td>  <th>  F-statistic:       </th> <td>   1.270</td>\n",
              "</tr>\n",
              "<tr>\n",
              "  <th>Date:</th>             <td>Tue, 28 Jun 2022</td> <th>  Prob (F-statistic):</th>  <td> 0.265</td> \n",
              "</tr>\n",
              "<tr>\n",
              "  <th>Time:</th>                 <td>17:48:34</td>     <th>  Log-Likelihood:    </th> <td> -486.25</td>\n",
              "</tr>\n",
              "<tr>\n",
              "  <th>No. Observations:</th>      <td>   340</td>      <th>  AIC:               </th> <td>   988.5</td>\n",
              "</tr>\n",
              "<tr>\n",
              "  <th>Df Residuals:</th>          <td>   332</td>      <th>  BIC:               </th> <td>   1019.</td>\n",
              "</tr>\n",
              "<tr>\n",
              "  <th>Df Model:</th>              <td>     7</td>      <th>                     </th>     <td> </td>   \n",
              "</tr>\n",
              "<tr>\n",
              "  <th>Covariance Type:</th>      <td>nonrobust</td>    <th>                     </th>     <td> </td>   \n",
              "</tr>\n",
              "</table>\n",
              "<table class=\"simpletable\">\n",
              "<tr>\n",
              "         <td></td>           <th>coef</th>     <th>std err</th>      <th>t</th>      <th>P>|t|</th>  <th>[0.025</th>    <th>0.975]</th>  \n",
              "</tr>\n",
              "<tr>\n",
              "  <th>const</th>          <td>   -0.0975</td> <td>    0.977</td> <td>   -0.100</td> <td> 0.921</td> <td>   -2.019</td> <td>    1.824</td>\n",
              "</tr>\n",
              "<tr>\n",
              "  <th>sector</th>         <td>   -0.1805</td> <td>    0.144</td> <td>   -1.255</td> <td> 0.210</td> <td>   -0.463</td> <td>    0.102</td>\n",
              "</tr>\n",
              "<tr>\n",
              "  <th>R&D_ratio</th>      <td>   -2.4725</td> <td>    1.771</td> <td>   -1.396</td> <td> 0.164</td> <td>   -5.957</td> <td>    1.011</td>\n",
              "</tr>\n",
              "<tr>\n",
              "  <th>leverage</th>       <td>   -0.0003</td> <td>    0.023</td> <td>   -0.015</td> <td> 0.988</td> <td>   -0.045</td> <td>    0.044</td>\n",
              "</tr>\n",
              "<tr>\n",
              "  <th>revenue_ratio</th>  <td>   -0.0173</td> <td>    0.033</td> <td>   -0.516</td> <td> 0.606</td> <td>   -0.083</td> <td>    0.049</td>\n",
              "</tr>\n",
              "<tr>\n",
              "  <th>martketcap_log</th> <td>    0.0352</td> <td>    0.044</td> <td>    0.801</td> <td> 0.424</td> <td>   -0.051</td> <td>    0.122</td>\n",
              "</tr>\n",
              "<tr>\n",
              "  <th>age</th>            <td>   -0.0005</td> <td>    0.008</td> <td>   -0.062</td> <td> 0.950</td> <td>   -0.016</td> <td>    0.015</td>\n",
              "</tr>\n",
              "<tr>\n",
              "  <th>covid</th>          <td>   -0.0490</td> <td>    0.118</td> <td>   -0.417</td> <td> 0.677</td> <td>   -0.280</td> <td>    0.182</td>\n",
              "</tr>\n",
              "</table>\n",
              "<table class=\"simpletable\">\n",
              "<tr>\n",
              "  <th>Omnibus:</th>       <td>694.072</td> <th>  Durbin-Watson:     </th>  <td>   1.998</td> \n",
              "</tr>\n",
              "<tr>\n",
              "  <th>Prob(Omnibus):</th> <td> 0.000</td>  <th>  Jarque-Bera (JB):  </th> <td>707270.304</td>\n",
              "</tr>\n",
              "<tr>\n",
              "  <th>Skew:</th>          <td>13.599</td>  <th>  Prob(JB):          </th>  <td>    0.00</td> \n",
              "</tr>\n",
              "<tr>\n",
              "  <th>Kurtosis:</th>      <td>224.777</td> <th>  Cond. No.          </th>  <td>    721.</td> \n",
              "</tr>\n",
              "</table><br/><br/>Warnings:<br/>[1] Standard Errors assume that the covariance matrix of the errors is correctly specified."
            ]
          },
          "metadata": {},
          "execution_count": 136
        }
      ]
    },
    {
      "cell_type": "code",
      "source": [
        "from sklearn.preprocessing import PolynomialFeatures\n",
        "polynomial_features= PolynomialFeatures(degree=2)\n",
        "xp = polynomial_features.fit_transform(X)"
      ],
      "metadata": {
        "id": "fTNKDhK2PG9x"
      },
      "execution_count": 137,
      "outputs": []
    },
    {
      "cell_type": "code",
      "source": [
        "model_day = sm.OLS(y_1, xp).fit()\n",
        "model_week = sm.OLS(y_7, xp).fit()"
      ],
      "metadata": {
        "id": "nI-n2ThGJa3Z"
      },
      "execution_count": 138,
      "outputs": []
    },
    {
      "cell_type": "code",
      "source": [
        "xp.shape"
      ],
      "metadata": {
        "colab": {
          "base_uri": "https://localhost:8080/"
        },
        "id": "Ojd5jhDmKs3j",
        "outputId": "c9edc7fd-d6c0-447f-99b8-0c18fc29ca2a"
      },
      "execution_count": 139,
      "outputs": [
        {
          "output_type": "execute_result",
          "data": {
            "text/plain": [
              "(340, 36)"
            ]
          },
          "metadata": {},
          "execution_count": 139
        }
      ]
    },
    {
      "cell_type": "code",
      "source": [
        "model_day.summary()"
      ],
      "metadata": {
        "colab": {
          "base_uri": "https://localhost:8080/",
          "height": 1000
        },
        "id": "mZxWj338J1Ri",
        "outputId": "d4f15c7c-30bd-4d93-b46d-335d4107092a"
      },
      "execution_count": 140,
      "outputs": [
        {
          "output_type": "execute_result",
          "data": {
            "text/plain": [
              "<class 'statsmodels.iolib.summary.Summary'>\n",
              "\"\"\"\n",
              "                            OLS Regression Results                            \n",
              "==============================================================================\n",
              "Dep. Variable:            day_returns   R-squared:                       0.445\n",
              "Model:                            OLS   Adj. R-squared:                  0.385\n",
              "Method:                 Least Squares   F-statistic:                     7.444\n",
              "Date:                Tue, 28 Jun 2022   Prob (F-statistic):           8.92e-24\n",
              "Time:                        17:48:34   Log-Likelihood:                -386.73\n",
              "No. Observations:                 340   AIC:                             841.5\n",
              "Df Residuals:                     306   BIC:                             971.7\n",
              "Df Model:                          33                                         \n",
              "Covariance Type:            nonrobust                                         \n",
              "==============================================================================\n",
              "                 coef    std err          t      P>|t|      [0.025      0.975]\n",
              "------------------------------------------------------------------------------\n",
              "const        -20.1839      9.380     -2.152      0.032     -38.641      -1.727\n",
              "x1            -0.5097      1.057     -0.482      0.630      -2.590       1.571\n",
              "x2           219.5297     45.154      4.862      0.000     130.677     308.382\n",
              "x3             2.9284      0.527      5.562      0.000       1.892       3.964\n",
              "x4             0.2811      1.120      0.251      0.802      -1.923       2.486\n",
              "x5             1.6913      0.840      2.014      0.045       0.039       3.344\n",
              "x6             0.0902      0.153      0.591      0.555      -0.210       0.391\n",
              "x7            -1.2003      0.861     -1.395      0.164      -2.894       0.493\n",
              "x8            -0.5097      1.057     -0.482      0.630      -2.590       1.571\n",
              "x9           -13.7167      5.664     -2.422      0.016     -24.862      -2.571\n",
              "x10           -1.8588      0.204     -9.125      0.000      -2.260      -1.458\n",
              "x11            0.1653      0.188      0.880      0.380      -0.204       0.535\n",
              "x12            0.0787      0.096      0.815      0.415      -0.111       0.268\n",
              "x13           -0.0076      0.025     -0.301      0.763      -0.057       0.042\n",
              "x14            0.2013      0.285      0.706      0.481      -0.360       0.762\n",
              "x15          -32.9966     17.522     -1.883      0.061     -67.476       1.482\n",
              "x16            9.0035      2.306      3.904      0.000       4.466      13.541\n",
              "x17            4.4316      4.232      1.047      0.296      -3.896      12.759\n",
              "x18          -10.6817      2.134     -5.005      0.000     -14.881      -6.482\n",
              "x19           -0.3921      0.218     -1.795      0.074      -0.822       0.038\n",
              "x20            8.2441      3.474      2.373      0.018       1.409      15.079\n",
              "x21           -0.0065      0.005     -1.319      0.188      -0.016       0.003\n",
              "x22           -0.0911      0.101     -0.902      0.368      -0.290       0.108\n",
              "x23           -0.0515      0.023     -2.233      0.026      -0.097      -0.006\n",
              "x24           -0.0231      0.007     -3.318      0.001      -0.037      -0.009\n",
              "x25           -0.1459      0.055     -2.674      0.008      -0.253      -0.039\n",
              "x26            0.0329      0.034      0.975      0.330      -0.034       0.099\n",
              "x27           -0.0137      0.054     -0.255      0.799      -0.119       0.092\n",
              "x28           -0.0313      0.016     -1.982      0.048      -0.062      -0.000\n",
              "x29           -0.1039      0.193     -0.537      0.592      -0.485       0.277\n",
              "x30           -0.0347      0.019     -1.823      0.069      -0.072       0.003\n",
              "x31           -0.0020      0.007     -0.292      0.771      -0.015       0.011\n",
              "x32            0.1057      0.077      1.381      0.168      -0.045       0.256\n",
              "x33            0.0004      0.000      1.113      0.267      -0.000       0.001\n",
              "x34           -0.0199      0.017     -1.174      0.241      -0.053       0.013\n",
              "x35           -1.2003      0.861     -1.395      0.164      -2.894       0.493\n",
              "==============================================================================\n",
              "Omnibus:                      363.546   Durbin-Watson:                   2.357\n",
              "Prob(Omnibus):                  0.000   Jarque-Bera (JB):            44415.218\n",
              "Skew:                           4.159   Prob(JB):                         0.00\n",
              "Kurtosis:                      58.371   Cond. No.                     1.06e+16\n",
              "==============================================================================\n",
              "\n",
              "Warnings:\n",
              "[1] Standard Errors assume that the covariance matrix of the errors is correctly specified.\n",
              "[2] The smallest eigenvalue is 7.63e-25. This might indicate that there are\n",
              "strong multicollinearity problems or that the design matrix is singular.\n",
              "\"\"\""
            ],
            "text/html": [
              "<table class=\"simpletable\">\n",
              "<caption>OLS Regression Results</caption>\n",
              "<tr>\n",
              "  <th>Dep. Variable:</th>       <td>day_returns</td>   <th>  R-squared:         </th> <td>   0.445</td>\n",
              "</tr>\n",
              "<tr>\n",
              "  <th>Model:</th>                   <td>OLS</td>       <th>  Adj. R-squared:    </th> <td>   0.385</td>\n",
              "</tr>\n",
              "<tr>\n",
              "  <th>Method:</th>             <td>Least Squares</td>  <th>  F-statistic:       </th> <td>   7.444</td>\n",
              "</tr>\n",
              "<tr>\n",
              "  <th>Date:</th>             <td>Tue, 28 Jun 2022</td> <th>  Prob (F-statistic):</th> <td>8.92e-24</td>\n",
              "</tr>\n",
              "<tr>\n",
              "  <th>Time:</th>                 <td>17:48:34</td>     <th>  Log-Likelihood:    </th> <td> -386.73</td>\n",
              "</tr>\n",
              "<tr>\n",
              "  <th>No. Observations:</th>      <td>   340</td>      <th>  AIC:               </th> <td>   841.5</td>\n",
              "</tr>\n",
              "<tr>\n",
              "  <th>Df Residuals:</th>          <td>   306</td>      <th>  BIC:               </th> <td>   971.7</td>\n",
              "</tr>\n",
              "<tr>\n",
              "  <th>Df Model:</th>              <td>    33</td>      <th>                     </th>     <td> </td>   \n",
              "</tr>\n",
              "<tr>\n",
              "  <th>Covariance Type:</th>      <td>nonrobust</td>    <th>                     </th>     <td> </td>   \n",
              "</tr>\n",
              "</table>\n",
              "<table class=\"simpletable\">\n",
              "<tr>\n",
              "    <td></td>       <th>coef</th>     <th>std err</th>      <th>t</th>      <th>P>|t|</th>  <th>[0.025</th>    <th>0.975]</th>  \n",
              "</tr>\n",
              "<tr>\n",
              "  <th>const</th> <td>  -20.1839</td> <td>    9.380</td> <td>   -2.152</td> <td> 0.032</td> <td>  -38.641</td> <td>   -1.727</td>\n",
              "</tr>\n",
              "<tr>\n",
              "  <th>x1</th>    <td>   -0.5097</td> <td>    1.057</td> <td>   -0.482</td> <td> 0.630</td> <td>   -2.590</td> <td>    1.571</td>\n",
              "</tr>\n",
              "<tr>\n",
              "  <th>x2</th>    <td>  219.5297</td> <td>   45.154</td> <td>    4.862</td> <td> 0.000</td> <td>  130.677</td> <td>  308.382</td>\n",
              "</tr>\n",
              "<tr>\n",
              "  <th>x3</th>    <td>    2.9284</td> <td>    0.527</td> <td>    5.562</td> <td> 0.000</td> <td>    1.892</td> <td>    3.964</td>\n",
              "</tr>\n",
              "<tr>\n",
              "  <th>x4</th>    <td>    0.2811</td> <td>    1.120</td> <td>    0.251</td> <td> 0.802</td> <td>   -1.923</td> <td>    2.486</td>\n",
              "</tr>\n",
              "<tr>\n",
              "  <th>x5</th>    <td>    1.6913</td> <td>    0.840</td> <td>    2.014</td> <td> 0.045</td> <td>    0.039</td> <td>    3.344</td>\n",
              "</tr>\n",
              "<tr>\n",
              "  <th>x6</th>    <td>    0.0902</td> <td>    0.153</td> <td>    0.591</td> <td> 0.555</td> <td>   -0.210</td> <td>    0.391</td>\n",
              "</tr>\n",
              "<tr>\n",
              "  <th>x7</th>    <td>   -1.2003</td> <td>    0.861</td> <td>   -1.395</td> <td> 0.164</td> <td>   -2.894</td> <td>    0.493</td>\n",
              "</tr>\n",
              "<tr>\n",
              "  <th>x8</th>    <td>   -0.5097</td> <td>    1.057</td> <td>   -0.482</td> <td> 0.630</td> <td>   -2.590</td> <td>    1.571</td>\n",
              "</tr>\n",
              "<tr>\n",
              "  <th>x9</th>    <td>  -13.7167</td> <td>    5.664</td> <td>   -2.422</td> <td> 0.016</td> <td>  -24.862</td> <td>   -2.571</td>\n",
              "</tr>\n",
              "<tr>\n",
              "  <th>x10</th>   <td>   -1.8588</td> <td>    0.204</td> <td>   -9.125</td> <td> 0.000</td> <td>   -2.260</td> <td>   -1.458</td>\n",
              "</tr>\n",
              "<tr>\n",
              "  <th>x11</th>   <td>    0.1653</td> <td>    0.188</td> <td>    0.880</td> <td> 0.380</td> <td>   -0.204</td> <td>    0.535</td>\n",
              "</tr>\n",
              "<tr>\n",
              "  <th>x12</th>   <td>    0.0787</td> <td>    0.096</td> <td>    0.815</td> <td> 0.415</td> <td>   -0.111</td> <td>    0.268</td>\n",
              "</tr>\n",
              "<tr>\n",
              "  <th>x13</th>   <td>   -0.0076</td> <td>    0.025</td> <td>   -0.301</td> <td> 0.763</td> <td>   -0.057</td> <td>    0.042</td>\n",
              "</tr>\n",
              "<tr>\n",
              "  <th>x14</th>   <td>    0.2013</td> <td>    0.285</td> <td>    0.706</td> <td> 0.481</td> <td>   -0.360</td> <td>    0.762</td>\n",
              "</tr>\n",
              "<tr>\n",
              "  <th>x15</th>   <td>  -32.9966</td> <td>   17.522</td> <td>   -1.883</td> <td> 0.061</td> <td>  -67.476</td> <td>    1.482</td>\n",
              "</tr>\n",
              "<tr>\n",
              "  <th>x16</th>   <td>    9.0035</td> <td>    2.306</td> <td>    3.904</td> <td> 0.000</td> <td>    4.466</td> <td>   13.541</td>\n",
              "</tr>\n",
              "<tr>\n",
              "  <th>x17</th>   <td>    4.4316</td> <td>    4.232</td> <td>    1.047</td> <td> 0.296</td> <td>   -3.896</td> <td>   12.759</td>\n",
              "</tr>\n",
              "<tr>\n",
              "  <th>x18</th>   <td>  -10.6817</td> <td>    2.134</td> <td>   -5.005</td> <td> 0.000</td> <td>  -14.881</td> <td>   -6.482</td>\n",
              "</tr>\n",
              "<tr>\n",
              "  <th>x19</th>   <td>   -0.3921</td> <td>    0.218</td> <td>   -1.795</td> <td> 0.074</td> <td>   -0.822</td> <td>    0.038</td>\n",
              "</tr>\n",
              "<tr>\n",
              "  <th>x20</th>   <td>    8.2441</td> <td>    3.474</td> <td>    2.373</td> <td> 0.018</td> <td>    1.409</td> <td>   15.079</td>\n",
              "</tr>\n",
              "<tr>\n",
              "  <th>x21</th>   <td>   -0.0065</td> <td>    0.005</td> <td>   -1.319</td> <td> 0.188</td> <td>   -0.016</td> <td>    0.003</td>\n",
              "</tr>\n",
              "<tr>\n",
              "  <th>x22</th>   <td>   -0.0911</td> <td>    0.101</td> <td>   -0.902</td> <td> 0.368</td> <td>   -0.290</td> <td>    0.108</td>\n",
              "</tr>\n",
              "<tr>\n",
              "  <th>x23</th>   <td>   -0.0515</td> <td>    0.023</td> <td>   -2.233</td> <td> 0.026</td> <td>   -0.097</td> <td>   -0.006</td>\n",
              "</tr>\n",
              "<tr>\n",
              "  <th>x24</th>   <td>   -0.0231</td> <td>    0.007</td> <td>   -3.318</td> <td> 0.001</td> <td>   -0.037</td> <td>   -0.009</td>\n",
              "</tr>\n",
              "<tr>\n",
              "  <th>x25</th>   <td>   -0.1459</td> <td>    0.055</td> <td>   -2.674</td> <td> 0.008</td> <td>   -0.253</td> <td>   -0.039</td>\n",
              "</tr>\n",
              "<tr>\n",
              "  <th>x26</th>   <td>    0.0329</td> <td>    0.034</td> <td>    0.975</td> <td> 0.330</td> <td>   -0.034</td> <td>    0.099</td>\n",
              "</tr>\n",
              "<tr>\n",
              "  <th>x27</th>   <td>   -0.0137</td> <td>    0.054</td> <td>   -0.255</td> <td> 0.799</td> <td>   -0.119</td> <td>    0.092</td>\n",
              "</tr>\n",
              "<tr>\n",
              "  <th>x28</th>   <td>   -0.0313</td> <td>    0.016</td> <td>   -1.982</td> <td> 0.048</td> <td>   -0.062</td> <td>   -0.000</td>\n",
              "</tr>\n",
              "<tr>\n",
              "  <th>x29</th>   <td>   -0.1039</td> <td>    0.193</td> <td>   -0.537</td> <td> 0.592</td> <td>   -0.485</td> <td>    0.277</td>\n",
              "</tr>\n",
              "<tr>\n",
              "  <th>x30</th>   <td>   -0.0347</td> <td>    0.019</td> <td>   -1.823</td> <td> 0.069</td> <td>   -0.072</td> <td>    0.003</td>\n",
              "</tr>\n",
              "<tr>\n",
              "  <th>x31</th>   <td>   -0.0020</td> <td>    0.007</td> <td>   -0.292</td> <td> 0.771</td> <td>   -0.015</td> <td>    0.011</td>\n",
              "</tr>\n",
              "<tr>\n",
              "  <th>x32</th>   <td>    0.1057</td> <td>    0.077</td> <td>    1.381</td> <td> 0.168</td> <td>   -0.045</td> <td>    0.256</td>\n",
              "</tr>\n",
              "<tr>\n",
              "  <th>x33</th>   <td>    0.0004</td> <td>    0.000</td> <td>    1.113</td> <td> 0.267</td> <td>   -0.000</td> <td>    0.001</td>\n",
              "</tr>\n",
              "<tr>\n",
              "  <th>x34</th>   <td>   -0.0199</td> <td>    0.017</td> <td>   -1.174</td> <td> 0.241</td> <td>   -0.053</td> <td>    0.013</td>\n",
              "</tr>\n",
              "<tr>\n",
              "  <th>x35</th>   <td>   -1.2003</td> <td>    0.861</td> <td>   -1.395</td> <td> 0.164</td> <td>   -2.894</td> <td>    0.493</td>\n",
              "</tr>\n",
              "</table>\n",
              "<table class=\"simpletable\">\n",
              "<tr>\n",
              "  <th>Omnibus:</th>       <td>363.546</td> <th>  Durbin-Watson:     </th> <td>   2.357</td> \n",
              "</tr>\n",
              "<tr>\n",
              "  <th>Prob(Omnibus):</th> <td> 0.000</td>  <th>  Jarque-Bera (JB):  </th> <td>44415.218</td>\n",
              "</tr>\n",
              "<tr>\n",
              "  <th>Skew:</th>          <td> 4.159</td>  <th>  Prob(JB):          </th> <td>    0.00</td> \n",
              "</tr>\n",
              "<tr>\n",
              "  <th>Kurtosis:</th>      <td>58.371</td>  <th>  Cond. No.          </th> <td>1.06e+16</td> \n",
              "</tr>\n",
              "</table><br/><br/>Warnings:<br/>[1] Standard Errors assume that the covariance matrix of the errors is correctly specified.<br/>[2] The smallest eigenvalue is 7.63e-25. This might indicate that there are<br/>strong multicollinearity problems or that the design matrix is singular."
            ]
          },
          "metadata": {},
          "execution_count": 140
        }
      ]
    },
    {
      "cell_type": "code",
      "source": [
        "model_week.summary()"
      ],
      "metadata": {
        "colab": {
          "base_uri": "https://localhost:8080/",
          "height": 1000
        },
        "id": "5D1qytnrKT3X",
        "outputId": "de711561-8bd6-422c-a2ce-31ff0b962071"
      },
      "execution_count": 141,
      "outputs": [
        {
          "output_type": "execute_result",
          "data": {
            "text/plain": [
              "<class 'statsmodels.iolib.summary.Summary'>\n",
              "\"\"\"\n",
              "                            OLS Regression Results                            \n",
              "==============================================================================\n",
              "Dep. Variable:           week_returns   R-squared:                       0.457\n",
              "Model:                            OLS   Adj. R-squared:                  0.398\n",
              "Method:                 Least Squares   F-statistic:                     7.793\n",
              "Date:                Tue, 28 Jun 2022   Prob (F-statistic):           5.57e-25\n",
              "Time:                        17:48:35   Log-Likelihood:                -387.04\n",
              "No. Observations:                 340   AIC:                             842.1\n",
              "Df Residuals:                     306   BIC:                             972.3\n",
              "Df Model:                          33                                         \n",
              "Covariance Type:            nonrobust                                         \n",
              "==============================================================================\n",
              "                 coef    std err          t      P>|t|      [0.025      0.975]\n",
              "------------------------------------------------------------------------------\n",
              "const        -22.2361      9.388     -2.368      0.018     -40.710      -3.762\n",
              "x1            -0.6735      1.058     -0.636      0.525      -2.756       1.409\n",
              "x2           222.1934     45.196      4.916      0.000     133.260     311.127\n",
              "x3             2.7687      0.527      5.254      0.000       1.732       3.806\n",
              "x4             0.5249      1.121      0.468      0.640      -1.682       2.731\n",
              "x5             1.8753      0.840      2.231      0.026       0.222       3.529\n",
              "x6             0.0457      0.153      0.299      0.765      -0.255       0.346\n",
              "x7            -1.3425      0.861     -1.558      0.120      -3.038       0.353\n",
              "x8            -0.6735      1.058     -0.636      0.525      -2.756       1.409\n",
              "x9           -12.6985      5.669     -2.240      0.026     -23.854      -1.543\n",
              "x10           -1.9312      0.204     -9.471      0.000      -2.332      -1.530\n",
              "x11            0.1910      0.188      1.016      0.310      -0.179       0.561\n",
              "x12            0.0961      0.097      0.995      0.321      -0.094       0.286\n",
              "x13           -0.0014      0.025     -0.057      0.955      -0.051       0.048\n",
              "x14            0.1668      0.285      0.585      0.559      -0.395       0.728\n",
              "x15          -33.7112     17.538     -1.922      0.056     -68.222       0.799\n",
              "x16            9.3134      2.308      4.035      0.000       4.771      13.855\n",
              "x17            3.6800      4.236      0.869      0.386      -4.655      12.015\n",
              "x18          -10.9132      2.136     -5.109      0.000     -15.116      -6.710\n",
              "x19           -0.2790      0.219     -1.276      0.203      -0.709       0.151\n",
              "x20            8.3694      3.477      2.407      0.017       1.528      15.211\n",
              "x21           -0.0030      0.005     -0.600      0.549      -0.013       0.007\n",
              "x22           -0.0888      0.101     -0.879      0.380      -0.288       0.110\n",
              "x23           -0.0423      0.023     -1.830      0.068      -0.088       0.003\n",
              "x24           -0.0236      0.007     -3.385      0.001      -0.037      -0.010\n",
              "x25           -0.1684      0.055     -3.085      0.002      -0.276      -0.061\n",
              "x26            0.0308      0.034      0.910      0.364      -0.036       0.097\n",
              "x27           -0.0246      0.054     -0.459      0.647      -0.130       0.081\n",
              "x28           -0.0310      0.016     -1.962      0.051      -0.062    8.95e-05\n",
              "x29           -0.0982      0.194     -0.507      0.613      -0.479       0.283\n",
              "x30           -0.0386      0.019     -2.025      0.044      -0.076      -0.001\n",
              "x31           -0.0005      0.007     -0.069      0.945      -0.014       0.013\n",
              "x32            0.1196      0.077      1.561      0.120      -0.031       0.270\n",
              "x33            0.0007      0.000      1.783      0.076   -6.84e-05       0.001\n",
              "x34           -0.0237      0.017     -1.393      0.165      -0.057       0.010\n",
              "x35           -1.3425      0.861     -1.558      0.120      -3.038       0.353\n",
              "==============================================================================\n",
              "Omnibus:                      352.583   Durbin-Watson:                   2.276\n",
              "Prob(Omnibus):                  0.000   Jarque-Bera (JB):            37584.706\n",
              "Skew:                           3.990   Prob(JB):                         0.00\n",
              "Kurtosis:                      53.886   Cond. No.                     1.06e+16\n",
              "==============================================================================\n",
              "\n",
              "Warnings:\n",
              "[1] Standard Errors assume that the covariance matrix of the errors is correctly specified.\n",
              "[2] The smallest eigenvalue is 7.63e-25. This might indicate that there are\n",
              "strong multicollinearity problems or that the design matrix is singular.\n",
              "\"\"\""
            ],
            "text/html": [
              "<table class=\"simpletable\">\n",
              "<caption>OLS Regression Results</caption>\n",
              "<tr>\n",
              "  <th>Dep. Variable:</th>      <td>week_returns</td>   <th>  R-squared:         </th> <td>   0.457</td>\n",
              "</tr>\n",
              "<tr>\n",
              "  <th>Model:</th>                   <td>OLS</td>       <th>  Adj. R-squared:    </th> <td>   0.398</td>\n",
              "</tr>\n",
              "<tr>\n",
              "  <th>Method:</th>             <td>Least Squares</td>  <th>  F-statistic:       </th> <td>   7.793</td>\n",
              "</tr>\n",
              "<tr>\n",
              "  <th>Date:</th>             <td>Tue, 28 Jun 2022</td> <th>  Prob (F-statistic):</th> <td>5.57e-25</td>\n",
              "</tr>\n",
              "<tr>\n",
              "  <th>Time:</th>                 <td>17:48:35</td>     <th>  Log-Likelihood:    </th> <td> -387.04</td>\n",
              "</tr>\n",
              "<tr>\n",
              "  <th>No. Observations:</th>      <td>   340</td>      <th>  AIC:               </th> <td>   842.1</td>\n",
              "</tr>\n",
              "<tr>\n",
              "  <th>Df Residuals:</th>          <td>   306</td>      <th>  BIC:               </th> <td>   972.3</td>\n",
              "</tr>\n",
              "<tr>\n",
              "  <th>Df Model:</th>              <td>    33</td>      <th>                     </th>     <td> </td>   \n",
              "</tr>\n",
              "<tr>\n",
              "  <th>Covariance Type:</th>      <td>nonrobust</td>    <th>                     </th>     <td> </td>   \n",
              "</tr>\n",
              "</table>\n",
              "<table class=\"simpletable\">\n",
              "<tr>\n",
              "    <td></td>       <th>coef</th>     <th>std err</th>      <th>t</th>      <th>P>|t|</th>  <th>[0.025</th>    <th>0.975]</th>  \n",
              "</tr>\n",
              "<tr>\n",
              "  <th>const</th> <td>  -22.2361</td> <td>    9.388</td> <td>   -2.368</td> <td> 0.018</td> <td>  -40.710</td> <td>   -3.762</td>\n",
              "</tr>\n",
              "<tr>\n",
              "  <th>x1</th>    <td>   -0.6735</td> <td>    1.058</td> <td>   -0.636</td> <td> 0.525</td> <td>   -2.756</td> <td>    1.409</td>\n",
              "</tr>\n",
              "<tr>\n",
              "  <th>x2</th>    <td>  222.1934</td> <td>   45.196</td> <td>    4.916</td> <td> 0.000</td> <td>  133.260</td> <td>  311.127</td>\n",
              "</tr>\n",
              "<tr>\n",
              "  <th>x3</th>    <td>    2.7687</td> <td>    0.527</td> <td>    5.254</td> <td> 0.000</td> <td>    1.732</td> <td>    3.806</td>\n",
              "</tr>\n",
              "<tr>\n",
              "  <th>x4</th>    <td>    0.5249</td> <td>    1.121</td> <td>    0.468</td> <td> 0.640</td> <td>   -1.682</td> <td>    2.731</td>\n",
              "</tr>\n",
              "<tr>\n",
              "  <th>x5</th>    <td>    1.8753</td> <td>    0.840</td> <td>    2.231</td> <td> 0.026</td> <td>    0.222</td> <td>    3.529</td>\n",
              "</tr>\n",
              "<tr>\n",
              "  <th>x6</th>    <td>    0.0457</td> <td>    0.153</td> <td>    0.299</td> <td> 0.765</td> <td>   -0.255</td> <td>    0.346</td>\n",
              "</tr>\n",
              "<tr>\n",
              "  <th>x7</th>    <td>   -1.3425</td> <td>    0.861</td> <td>   -1.558</td> <td> 0.120</td> <td>   -3.038</td> <td>    0.353</td>\n",
              "</tr>\n",
              "<tr>\n",
              "  <th>x8</th>    <td>   -0.6735</td> <td>    1.058</td> <td>   -0.636</td> <td> 0.525</td> <td>   -2.756</td> <td>    1.409</td>\n",
              "</tr>\n",
              "<tr>\n",
              "  <th>x9</th>    <td>  -12.6985</td> <td>    5.669</td> <td>   -2.240</td> <td> 0.026</td> <td>  -23.854</td> <td>   -1.543</td>\n",
              "</tr>\n",
              "<tr>\n",
              "  <th>x10</th>   <td>   -1.9312</td> <td>    0.204</td> <td>   -9.471</td> <td> 0.000</td> <td>   -2.332</td> <td>   -1.530</td>\n",
              "</tr>\n",
              "<tr>\n",
              "  <th>x11</th>   <td>    0.1910</td> <td>    0.188</td> <td>    1.016</td> <td> 0.310</td> <td>   -0.179</td> <td>    0.561</td>\n",
              "</tr>\n",
              "<tr>\n",
              "  <th>x12</th>   <td>    0.0961</td> <td>    0.097</td> <td>    0.995</td> <td> 0.321</td> <td>   -0.094</td> <td>    0.286</td>\n",
              "</tr>\n",
              "<tr>\n",
              "  <th>x13</th>   <td>   -0.0014</td> <td>    0.025</td> <td>   -0.057</td> <td> 0.955</td> <td>   -0.051</td> <td>    0.048</td>\n",
              "</tr>\n",
              "<tr>\n",
              "  <th>x14</th>   <td>    0.1668</td> <td>    0.285</td> <td>    0.585</td> <td> 0.559</td> <td>   -0.395</td> <td>    0.728</td>\n",
              "</tr>\n",
              "<tr>\n",
              "  <th>x15</th>   <td>  -33.7112</td> <td>   17.538</td> <td>   -1.922</td> <td> 0.056</td> <td>  -68.222</td> <td>    0.799</td>\n",
              "</tr>\n",
              "<tr>\n",
              "  <th>x16</th>   <td>    9.3134</td> <td>    2.308</td> <td>    4.035</td> <td> 0.000</td> <td>    4.771</td> <td>   13.855</td>\n",
              "</tr>\n",
              "<tr>\n",
              "  <th>x17</th>   <td>    3.6800</td> <td>    4.236</td> <td>    0.869</td> <td> 0.386</td> <td>   -4.655</td> <td>   12.015</td>\n",
              "</tr>\n",
              "<tr>\n",
              "  <th>x18</th>   <td>  -10.9132</td> <td>    2.136</td> <td>   -5.109</td> <td> 0.000</td> <td>  -15.116</td> <td>   -6.710</td>\n",
              "</tr>\n",
              "<tr>\n",
              "  <th>x19</th>   <td>   -0.2790</td> <td>    0.219</td> <td>   -1.276</td> <td> 0.203</td> <td>   -0.709</td> <td>    0.151</td>\n",
              "</tr>\n",
              "<tr>\n",
              "  <th>x20</th>   <td>    8.3694</td> <td>    3.477</td> <td>    2.407</td> <td> 0.017</td> <td>    1.528</td> <td>   15.211</td>\n",
              "</tr>\n",
              "<tr>\n",
              "  <th>x21</th>   <td>   -0.0030</td> <td>    0.005</td> <td>   -0.600</td> <td> 0.549</td> <td>   -0.013</td> <td>    0.007</td>\n",
              "</tr>\n",
              "<tr>\n",
              "  <th>x22</th>   <td>   -0.0888</td> <td>    0.101</td> <td>   -0.879</td> <td> 0.380</td> <td>   -0.288</td> <td>    0.110</td>\n",
              "</tr>\n",
              "<tr>\n",
              "  <th>x23</th>   <td>   -0.0423</td> <td>    0.023</td> <td>   -1.830</td> <td> 0.068</td> <td>   -0.088</td> <td>    0.003</td>\n",
              "</tr>\n",
              "<tr>\n",
              "  <th>x24</th>   <td>   -0.0236</td> <td>    0.007</td> <td>   -3.385</td> <td> 0.001</td> <td>   -0.037</td> <td>   -0.010</td>\n",
              "</tr>\n",
              "<tr>\n",
              "  <th>x25</th>   <td>   -0.1684</td> <td>    0.055</td> <td>   -3.085</td> <td> 0.002</td> <td>   -0.276</td> <td>   -0.061</td>\n",
              "</tr>\n",
              "<tr>\n",
              "  <th>x26</th>   <td>    0.0308</td> <td>    0.034</td> <td>    0.910</td> <td> 0.364</td> <td>   -0.036</td> <td>    0.097</td>\n",
              "</tr>\n",
              "<tr>\n",
              "  <th>x27</th>   <td>   -0.0246</td> <td>    0.054</td> <td>   -0.459</td> <td> 0.647</td> <td>   -0.130</td> <td>    0.081</td>\n",
              "</tr>\n",
              "<tr>\n",
              "  <th>x28</th>   <td>   -0.0310</td> <td>    0.016</td> <td>   -1.962</td> <td> 0.051</td> <td>   -0.062</td> <td> 8.95e-05</td>\n",
              "</tr>\n",
              "<tr>\n",
              "  <th>x29</th>   <td>   -0.0982</td> <td>    0.194</td> <td>   -0.507</td> <td> 0.613</td> <td>   -0.479</td> <td>    0.283</td>\n",
              "</tr>\n",
              "<tr>\n",
              "  <th>x30</th>   <td>   -0.0386</td> <td>    0.019</td> <td>   -2.025</td> <td> 0.044</td> <td>   -0.076</td> <td>   -0.001</td>\n",
              "</tr>\n",
              "<tr>\n",
              "  <th>x31</th>   <td>   -0.0005</td> <td>    0.007</td> <td>   -0.069</td> <td> 0.945</td> <td>   -0.014</td> <td>    0.013</td>\n",
              "</tr>\n",
              "<tr>\n",
              "  <th>x32</th>   <td>    0.1196</td> <td>    0.077</td> <td>    1.561</td> <td> 0.120</td> <td>   -0.031</td> <td>    0.270</td>\n",
              "</tr>\n",
              "<tr>\n",
              "  <th>x33</th>   <td>    0.0007</td> <td>    0.000</td> <td>    1.783</td> <td> 0.076</td> <td>-6.84e-05</td> <td>    0.001</td>\n",
              "</tr>\n",
              "<tr>\n",
              "  <th>x34</th>   <td>   -0.0237</td> <td>    0.017</td> <td>   -1.393</td> <td> 0.165</td> <td>   -0.057</td> <td>    0.010</td>\n",
              "</tr>\n",
              "<tr>\n",
              "  <th>x35</th>   <td>   -1.3425</td> <td>    0.861</td> <td>   -1.558</td> <td> 0.120</td> <td>   -3.038</td> <td>    0.353</td>\n",
              "</tr>\n",
              "</table>\n",
              "<table class=\"simpletable\">\n",
              "<tr>\n",
              "  <th>Omnibus:</th>       <td>352.583</td> <th>  Durbin-Watson:     </th> <td>   2.276</td> \n",
              "</tr>\n",
              "<tr>\n",
              "  <th>Prob(Omnibus):</th> <td> 0.000</td>  <th>  Jarque-Bera (JB):  </th> <td>37584.706</td>\n",
              "</tr>\n",
              "<tr>\n",
              "  <th>Skew:</th>          <td> 3.990</td>  <th>  Prob(JB):          </th> <td>    0.00</td> \n",
              "</tr>\n",
              "<tr>\n",
              "  <th>Kurtosis:</th>      <td>53.886</td>  <th>  Cond. No.          </th> <td>1.06e+16</td> \n",
              "</tr>\n",
              "</table><br/><br/>Warnings:<br/>[1] Standard Errors assume that the covariance matrix of the errors is correctly specified.<br/>[2] The smallest eigenvalue is 7.63e-25. This might indicate that there are<br/>strong multicollinearity problems or that the design matrix is singular."
            ]
          },
          "metadata": {},
          "execution_count": 141
        }
      ]
    }
  ]
}